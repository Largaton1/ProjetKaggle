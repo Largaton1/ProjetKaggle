{
 "cells": [
  {
   "cell_type": "markdown",
   "id": "a519091f",
   "metadata": {},
   "source": []
  }
 ],
 "metadata": {
  "language_info": {
   "name": "python"
  }
 },
 "nbformat": 4,
 "nbformat_minor": 5
}
